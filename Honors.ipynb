{
 "cells": [
  {
   "cell_type": "markdown",
   "id": "d628402b",
   "metadata": {},
   "source": [
    "# Hypothesis testing for honors\n",
    "---\n",
    "\n",
    "## Dataset used\n",
    "---\n",
    "**Students Exam Scores: Extended Dataset Exam scores for students at a public school**\n",
    "\n",
    "URL: https://www.kaggle.com/datasets/desalegngeb/students-exam-scores\n",
    "\n",
    "_This dataset includes scores from three test scores of students at a (fictional) public school and a variety of personal and socio-economic factors that may have interaction effects upon them._\n",
    "\n",
    "### Data Dictionary (column description)\n",
    "---\n",
    "- **Gender**: Gender of the student (male/female)\n",
    "- **EthnicGroup**: Ethnic group of the student (group A to E)\n",
    "- **ParentEduc**: Parent(s) education background (from some_highschool to master's degree)\n",
    "- **LunchType**: School lunch type (standard or free/reduced)\n",
    "- **TestPrep**: Test preparation course followed (completed or none)\n",
    "- **ParentMaritalStatus**: Parent(s) marital status (married/single/widowed/divorced)\n",
    "- **PracticeSport**: How often the student parctice sport (never/sometimes/regularly))\n",
    "- **IsFirstChild**: If the child is first child in the family or not (yes/no)\n",
    "- **NrSiblings**: Number of siblings the student has (0 to 7)\n",
    "- **TransportMeans**: Means of transport to school (schoolbus/private)\n",
    "- **WklyStudyHours**: Weekly self-study hours(less that 5hrs; between 5 and 10hrs; more than 10hrs)\n",
    "- **MathScore**: math test score(0-100)\n",
    "- **ReadingScore**: reading test score(0-100)\n",
    "- **WritingScore**: writing test score(0-100)"
   ]
  },
  {
   "cell_type": "markdown",
   "id": "e332dd51",
   "metadata": {},
   "source": [
    "### Hypothesis Testing done\n",
    "\n",
    "1. [Is there any significant difference in test scores between male and female students?](#1.-Hypothesis-testing---Is-there-any-significant-difference-in-test-scores-between-male-and-female-students?)\n",
    "2. [Do students who have completed Test_Prep score higher on average than students who didn't?](#2.-Hypothesis-testing---Do-students-who-have-completed-Test_Prep-score-higher-on-average-than-students-who-didn't?)\n",
    "3. [Does parent's education have any influence on student scores?](#3.-Hypothesis-testing---Does-parent's-education-have-any-influence-on-student-scores?)\n",
    "4. [Determine if the proportion of students who have completed test prep is significantly different based on their Gender](#4.-Hypothesis-testing---Determine-if-the-proportion-of-students-who-have-completed-test-prep-is-significantly-different-based-on-their-Gender)"
   ]
  },
  {
   "cell_type": "markdown",
   "id": "c033c493",
   "metadata": {},
   "source": [
    "## Code Start\n",
    "---"
   ]
  },
  {
   "cell_type": "code",
   "execution_count": 108,
   "id": "6c970b2a",
   "metadata": {},
   "outputs": [],
   "source": [
    "import pandas as pd\n",
    "from matplotlib import pyplot as plt\n",
    "import seaborn as sns\n",
    "import numpy as np\n",
    "import scipy.stats as stats \n",
    "from scipy.stats import chi2_contingency\n",
    "from statsmodels.formula.api import ols\n",
    "from statsmodels.stats.anova import anova_lm "
   ]
  },
  {
   "cell_type": "markdown",
   "id": "a3efa507",
   "metadata": {},
   "source": [
    "## Import data, clean, enrich and understand\n",
    "---"
   ]
  },
  {
   "cell_type": "code",
   "execution_count": 109,
   "id": "9094c1f6",
   "metadata": {},
   "outputs": [],
   "source": [
    "df = pd.read_csv('data/students_data.csv')\n",
    "df = df.drop(columns=['Unnamed: 0'])\n",
    "df = df.rename(columns={'EthnicGroup':'Ethnic_Group','LunchType':'Lunch_Type',\n",
    "                   'TestPrep':'Test_Prep','MathScore':'Math_Score',\n",
    "                  'ReadingScore':'Reading_Score','WritingScore':'Writing_Score','ParentEduc':'Parents_Edu'})\n",
    "\n",
    "df['Total_Score'] = df['Math_Score']+df['Reading_Score']+df['Writing_Score']"
   ]
  },
  {
   "cell_type": "markdown",
   "id": "c7af71c7",
   "metadata": {},
   "source": [
    "Check sample `head`, `info` and `describe`"
   ]
  },
  {
   "cell_type": "code",
   "execution_count": 110,
   "id": "5941ba4c",
   "metadata": {},
   "outputs": [
    {
     "data": {
      "text/html": [
       "<div>\n",
       "<style scoped>\n",
       "    .dataframe tbody tr th:only-of-type {\n",
       "        vertical-align: middle;\n",
       "    }\n",
       "\n",
       "    .dataframe tbody tr th {\n",
       "        vertical-align: top;\n",
       "    }\n",
       "\n",
       "    .dataframe thead th {\n",
       "        text-align: right;\n",
       "    }\n",
       "</style>\n",
       "<table border=\"1\" class=\"dataframe\">\n",
       "  <thead>\n",
       "    <tr style=\"text-align: right;\">\n",
       "      <th></th>\n",
       "      <th>Gender</th>\n",
       "      <th>Ethnic_Group</th>\n",
       "      <th>Parents_Edu</th>\n",
       "      <th>Lunch_Type</th>\n",
       "      <th>Test_Prep</th>\n",
       "      <th>Math_Score</th>\n",
       "      <th>Reading_Score</th>\n",
       "      <th>Writing_Score</th>\n",
       "      <th>Total_Score</th>\n",
       "    </tr>\n",
       "  </thead>\n",
       "  <tbody>\n",
       "    <tr>\n",
       "      <th>0</th>\n",
       "      <td>female</td>\n",
       "      <td>group B</td>\n",
       "      <td>bachelor's degree</td>\n",
       "      <td>standard</td>\n",
       "      <td>none</td>\n",
       "      <td>72</td>\n",
       "      <td>72</td>\n",
       "      <td>74</td>\n",
       "      <td>218</td>\n",
       "    </tr>\n",
       "    <tr>\n",
       "      <th>1</th>\n",
       "      <td>female</td>\n",
       "      <td>group C</td>\n",
       "      <td>some college</td>\n",
       "      <td>standard</td>\n",
       "      <td>completed</td>\n",
       "      <td>69</td>\n",
       "      <td>90</td>\n",
       "      <td>88</td>\n",
       "      <td>247</td>\n",
       "    </tr>\n",
       "    <tr>\n",
       "      <th>2</th>\n",
       "      <td>female</td>\n",
       "      <td>group B</td>\n",
       "      <td>master's degree</td>\n",
       "      <td>standard</td>\n",
       "      <td>none</td>\n",
       "      <td>90</td>\n",
       "      <td>95</td>\n",
       "      <td>93</td>\n",
       "      <td>278</td>\n",
       "    </tr>\n",
       "    <tr>\n",
       "      <th>3</th>\n",
       "      <td>male</td>\n",
       "      <td>group A</td>\n",
       "      <td>associate's degree</td>\n",
       "      <td>free/reduced</td>\n",
       "      <td>none</td>\n",
       "      <td>47</td>\n",
       "      <td>57</td>\n",
       "      <td>44</td>\n",
       "      <td>148</td>\n",
       "    </tr>\n",
       "    <tr>\n",
       "      <th>4</th>\n",
       "      <td>male</td>\n",
       "      <td>group C</td>\n",
       "      <td>some college</td>\n",
       "      <td>standard</td>\n",
       "      <td>none</td>\n",
       "      <td>76</td>\n",
       "      <td>78</td>\n",
       "      <td>75</td>\n",
       "      <td>229</td>\n",
       "    </tr>\n",
       "  </tbody>\n",
       "</table>\n",
       "</div>"
      ],
      "text/plain": [
       "   Gender Ethnic_Group         Parents_Edu    Lunch_Type  Test_Prep   \n",
       "0  female      group B   bachelor's degree      standard       none  \\\n",
       "1  female      group C        some college      standard  completed   \n",
       "2  female      group B     master's degree      standard       none   \n",
       "3    male      group A  associate's degree  free/reduced       none   \n",
       "4    male      group C        some college      standard       none   \n",
       "\n",
       "   Math_Score  Reading_Score  Writing_Score  Total_Score  \n",
       "0          72             72             74          218  \n",
       "1          69             90             88          247  \n",
       "2          90             95             93          278  \n",
       "3          47             57             44          148  \n",
       "4          76             78             75          229  "
      ]
     },
     "execution_count": 110,
     "metadata": {},
     "output_type": "execute_result"
    }
   ],
   "source": [
    "df.head()"
   ]
  },
  {
   "cell_type": "code",
   "execution_count": 111,
   "id": "35905e06",
   "metadata": {},
   "outputs": [
    {
     "name": "stdout",
     "output_type": "stream",
     "text": [
      "<class 'pandas.core.frame.DataFrame'>\n",
      "RangeIndex: 30641 entries, 0 to 30640\n",
      "Data columns (total 9 columns):\n",
      " #   Column         Non-Null Count  Dtype \n",
      "---  ------         --------------  ----- \n",
      " 0   Gender         30641 non-null  object\n",
      " 1   Ethnic_Group   30641 non-null  object\n",
      " 2   Parents_Edu    30641 non-null  object\n",
      " 3   Lunch_Type     30641 non-null  object\n",
      " 4   Test_Prep      30641 non-null  object\n",
      " 5   Math_Score     30641 non-null  int64 \n",
      " 6   Reading_Score  30641 non-null  int64 \n",
      " 7   Writing_Score  30641 non-null  int64 \n",
      " 8   Total_Score    30641 non-null  int64 \n",
      "dtypes: int64(4), object(5)\n",
      "memory usage: 2.1+ MB\n"
     ]
    }
   ],
   "source": [
    "df.info()"
   ]
  },
  {
   "cell_type": "code",
   "execution_count": 112,
   "id": "5375c335",
   "metadata": {},
   "outputs": [
    {
     "data": {
      "text/html": [
       "<div>\n",
       "<style scoped>\n",
       "    .dataframe tbody tr th:only-of-type {\n",
       "        vertical-align: middle;\n",
       "    }\n",
       "\n",
       "    .dataframe tbody tr th {\n",
       "        vertical-align: top;\n",
       "    }\n",
       "\n",
       "    .dataframe thead th {\n",
       "        text-align: right;\n",
       "    }\n",
       "</style>\n",
       "<table border=\"1\" class=\"dataframe\">\n",
       "  <thead>\n",
       "    <tr style=\"text-align: right;\">\n",
       "      <th></th>\n",
       "      <th>Math_Score</th>\n",
       "      <th>Reading_Score</th>\n",
       "      <th>Writing_Score</th>\n",
       "      <th>Total_Score</th>\n",
       "    </tr>\n",
       "  </thead>\n",
       "  <tbody>\n",
       "    <tr>\n",
       "      <th>count</th>\n",
       "      <td>30641.000000</td>\n",
       "      <td>30641.000000</td>\n",
       "      <td>30641.000000</td>\n",
       "      <td>30641.000000</td>\n",
       "    </tr>\n",
       "    <tr>\n",
       "      <th>mean</th>\n",
       "      <td>66.749355</td>\n",
       "      <td>69.624980</td>\n",
       "      <td>68.468327</td>\n",
       "      <td>204.842662</td>\n",
       "    </tr>\n",
       "    <tr>\n",
       "      <th>std</th>\n",
       "      <td>15.206049</td>\n",
       "      <td>14.671572</td>\n",
       "      <td>15.307814</td>\n",
       "      <td>42.994898</td>\n",
       "    </tr>\n",
       "    <tr>\n",
       "      <th>min</th>\n",
       "      <td>0.000000</td>\n",
       "      <td>10.000000</td>\n",
       "      <td>5.000000</td>\n",
       "      <td>27.000000</td>\n",
       "    </tr>\n",
       "    <tr>\n",
       "      <th>25%</th>\n",
       "      <td>56.000000</td>\n",
       "      <td>60.000000</td>\n",
       "      <td>58.000000</td>\n",
       "      <td>176.000000</td>\n",
       "    </tr>\n",
       "    <tr>\n",
       "      <th>50%</th>\n",
       "      <td>67.000000</td>\n",
       "      <td>70.000000</td>\n",
       "      <td>69.000000</td>\n",
       "      <td>206.000000</td>\n",
       "    </tr>\n",
       "    <tr>\n",
       "      <th>75%</th>\n",
       "      <td>78.000000</td>\n",
       "      <td>80.000000</td>\n",
       "      <td>79.000000</td>\n",
       "      <td>236.000000</td>\n",
       "    </tr>\n",
       "    <tr>\n",
       "      <th>max</th>\n",
       "      <td>100.000000</td>\n",
       "      <td>100.000000</td>\n",
       "      <td>100.000000</td>\n",
       "      <td>300.000000</td>\n",
       "    </tr>\n",
       "  </tbody>\n",
       "</table>\n",
       "</div>"
      ],
      "text/plain": [
       "         Math_Score  Reading_Score  Writing_Score   Total_Score\n",
       "count  30641.000000   30641.000000   30641.000000  30641.000000\n",
       "mean      66.749355      69.624980      68.468327    204.842662\n",
       "std       15.206049      14.671572      15.307814     42.994898\n",
       "min        0.000000      10.000000       5.000000     27.000000\n",
       "25%       56.000000      60.000000      58.000000    176.000000\n",
       "50%       67.000000      70.000000      69.000000    206.000000\n",
       "75%       78.000000      80.000000      79.000000    236.000000\n",
       "max      100.000000     100.000000     100.000000    300.000000"
      ]
     },
     "execution_count": 112,
     "metadata": {},
     "output_type": "execute_result"
    }
   ],
   "source": [
    "df.describe()"
   ]
  },
  {
   "cell_type": "markdown",
   "id": "75b428d0",
   "metadata": {},
   "source": [
    "### Initial observations\n",
    "---\n",
    "\n",
    "- There are no NULL values\n",
    "- There are 9 features, with 30641 records"
   ]
  },
  {
   "cell_type": "markdown",
   "id": "012be14b",
   "metadata": {},
   "source": [
    "## 1. Hypothesis testing - Is there any significant difference in test scores between male and female students?\n",
    "---\n",
    "\n",
    "$ 𝐻_{0}:\\mu_{1}-\\mu_{2} = 0 $ There is no difference between the total test scores of female and male students. \\\n",
    "$ 𝐻_{A}:\\mu_{1}-\\mu_{2} \\ne 0 $ There is a difference between the total test scores of female and male students.\n",
    "\n",
    "---\n",
    "\n",
    "The equal sign in the null hypothesis indicates that it is a **2-tailed test**.\n",
    "\n",
    "A **two-tailed test** is a statistical hypothesis test that _examines whether there is a significant difference between two groups or conditions in any direction_. It is called \"two-tailed\" because <u>it looks for differences in both tails, or extremes, of a distribution</u>.\n",
    "\n",
    "In a hypothesis test, we have a null hypothesis (H₀) that assumes there is no significant difference between the groups or conditions being compared. The alternative hypothesis (H₁), on the other hand, suggests that there is a significant difference.\n",
    "\n",
    "In a two-tailed test, we are interested in detecting differences in either direction. We want to determine if the observed difference between the groups is significant, regardless of whether it is positive or negative. This type of test is appropriate when we have no specific expectation or prior belief about the direction of the difference.\n",
    "\n",
    "To perform a two-tailed test, we collect data from the two groups or conditions and analyze it using an appropriate statistical test, such as the t-test or z-test. The test calculates a p-value, which represents the probability of observing a difference as extreme as the one observed, assuming the null hypothesis is true.\n",
    "\n",
    "If the p-value is smaller than a predetermined significance level (usually 0.05), we reject the null hypothesis and conclude that there is a significant difference between the groups. However, we do not make any specific claim about the direction of the difference—only that a significant difference exists.\n",
    "\n",
    "In summary, a two-tailed test is a statistical hypothesis test that examines whether there is a significant difference between groups or conditions in any direction. It allows us to detect differences without assuming a specific directionality.\n",
    "    \n",
    "### Decision criteria\n",
    "![](https://cf-courses-data.s3.us.cloud-object-storage.appdomain.cloud/IBM-ML0232EN-SkillsNetwork/asset/Hypothesis_Testing_3.png)\n",
    "\n",
    "To set the criteria for a decision, we state the level of significance for a test. It could be 5%, 1% or 0.5%. Based on the level of significance, we can make a decision whether to accept the null hypothesis and reject the alternate, and vise versa.\n",
    "\n",
    "The diagram above describes the principles of hypothesis testing. We will choose 5% significance level. Therefore, our $ \\alpha=0.05 $. Since we have a 2-tailed test, we have to divide alpha by 2, which gives us 0.025."
   ]
  },
  {
   "cell_type": "markdown",
   "id": "4657082b",
   "metadata": {},
   "source": [
    "**Get all observations of the male and female students**"
   ]
  },
  {
   "cell_type": "code",
   "execution_count": 113,
   "id": "48c4953b",
   "metadata": {},
   "outputs": [],
   "source": [
    "female=df.loc[df.Gender==\"female\"]\n",
    "male=df.loc[df.Gender==\"male\"]\n"
   ]
  },
  {
   "cell_type": "markdown",
   "id": "dff5c4ee",
   "metadata": {},
   "source": [
    "Now, let's select the total scores for females and males. Then, we will plot the distribution of 'total_scores' values for females and males using seaborn's `distplot()` function.\n",
    "\n"
   ]
  },
  {
   "cell_type": "code",
   "execution_count": 114,
   "id": "b2a760ce",
   "metadata": {},
   "outputs": [
    {
     "data": {
      "image/png": "[encoded data removed]",
      "text/plain": [
       "<Figure size 640x480 with 1 Axes>"
      ]
     },
     "metadata": {},
     "output_type": "display_data"
    },
    {
     "name": "stdout",
     "output_type": "stream",
     "text": [
      "Mean value for female score is:  210.25\n",
      "Mean value for male score is:  199.36\n"
     ]
    }
   ],
   "source": [
    "f_score = female.Total_Score\n",
    "m_score = male.Total_Score\n",
    "\n",
    "sns.kdeplot(f_score, color='green', fill=True, label='Female', linestyle=\"--\")\n",
    "sns.kdeplot(m_score, color='red', fill=True, label='Male', alpha=0.05)\n",
    "plt.grid(True, alpha=0.15, linestyle='--')\n",
    "plt.title('Fig 1: Distribution of total scores for Female and Male Students')\n",
    "plt.legend()\n",
    "plt.show()\n",
    "\n",
    "print('Mean value for female score is: ',round(f_score.mean(),2))\n",
    "print('Mean value for male score is: ',round(m_score.mean(),2))"
   ]
  },
  {
   "cell_type": "markdown",
   "id": "749798b6",
   "metadata": {},
   "source": [
    "We will obtain our statistics, t-value and p-value. We will use `scipy.stats` library and `ttest_ind()` function to calculate these parameters.\n"
   ]
  },
  {
   "cell_type": "code",
   "execution_count": 115,
   "id": "58fa6011",
   "metadata": {},
   "outputs": [
    {
     "name": "stdout",
     "output_type": "stream",
     "text": [
      "t_value =  22.362195264103235 , p_value =  6.972047128908246e-110\n"
     ]
    }
   ],
   "source": [
    "alpha=0.05\n",
    "\n",
    "t_value, p_value = stats.ttest_ind(f_score, m_score)\n",
    "\n",
    "print(\"t_value = \", t_value, \", p_value = \", p_value)"
   ]
  },
  {
   "cell_type": "code",
   "execution_count": 116,
   "id": "15460e13",
   "metadata": {},
   "outputs": [
    {
     "name": "stdout",
     "output_type": "stream",
     "text": [
      "\n",
      "Conclusion: since p_value 6.972047128908246e-110 is less than alpha 0.05 \n",
      "\n",
      "Reject the null hypothesis that 'there is no difference between the total test scores of female and male student'.\n"
     ]
    }
   ],
   "source": [
    "if p_value <alpha:\n",
    "    \n",
    "    print(\"\\nConclusion: since p_value {} is less than alpha {} \". format (p_value,alpha))\n",
    "    \n",
    "    print(\"\\nReject the null hypothesis that 'there is no difference between the total test scores of female and male student'.\")\n",
    "    \n",
    "else:\n",
    "    \n",
    "    print(\"\\nConclusion: since p_value {} is greater than alpha {} \". format (p_value,alpha))\n",
    "    \n",
    "    print(\"\\nFail to reject the null hypothesis that 'there is no difference between the total test scores of female and male student'.\")\n",
    "    \n",
    "    "
   ]
  },
  {
   "cell_type": "markdown",
   "id": "c4dfac1b",
   "metadata": {},
   "source": [
    "[Go to Top](#Hypothesis-Testing-done)"
   ]
  },
  {
   "cell_type": "markdown",
   "id": "8298aeaf",
   "metadata": {},
   "source": [
    "## 2. Hypothesis testing - Do students who have completed Test_Prep score higher on average than students who didn't?\n",
    "---\n",
    "\n",
    "Now, let's define our null and alternative hypothesis.\n",
    "\n",
    "$ 𝐻_{0}:\\mu_{1} \\leq \\mu_{2} $ The average total scores of students who completed Test prep is less than or equal to students who didn't. \\\n",
    "$ 𝐻_{A}:\\mu_{1} > \\mu_{2} $ The average total scores of students who completed Test prep is greater than or equal to students who didn't.\n",
    "\n",
    "---\n",
    "The '>' sign in the alternate hypothesis indicates the test is right tailed. To compare the mean values of smoking and nonsmoking populations, we will use a t-test. If z-values (calculated from a t-test) fall into the area on the right side of a distribution curve, this would cause us to reject the null hypothesis.\n",
    "\n",
    "---\n",
    "\n",
    "In this example, we would like to prove (or disprove) that students who completed test prep score higher on average than students who haven't completed their test prep.\n",
    "\n",
    "We start by comparing the mean values (𝜇) of population of students who completed test prep and students who didnt."
   ]
  },
  {
   "cell_type": "code",
   "execution_count": 117,
   "id": "abf85524",
   "metadata": {},
   "outputs": [
    {
     "name": "stdout",
     "output_type": "stream",
     "text": [
      "\n",
      "Avg. scores of students who completed their Test Prep 218.46\n",
      "\n",
      "Avg. scores of students who did take their Test Prep 197.67\n"
     ]
    }
   ],
   "source": [
    "tp_completed = df.loc[df.Test_Prep == \"completed\"]\n",
    "tp_completed_scores = tp_completed.Total_Score\n",
    "\n",
    "tp_completed_mean = tp_completed_scores.mean()\n",
    "\n",
    "\n",
    "tp_none = df.loc[df.Test_Prep == \"none\"]\n",
    "tp_none_scores = tp_none.Total_Score\n",
    "\n",
    "tp_none_mean = tp_none_scores.mean()\n",
    "\n",
    "print(\"\\nAvg. scores of students who completed their Test Prep\",round(tp_completed_mean,2))\n",
    "print(\"\\nAvg. scores of students who did take their Test Prep\",round(tp_none_mean,2))"
   ]
  },
  {
   "cell_type": "code",
   "execution_count": 118,
   "id": "921ef36b",
   "metadata": {},
   "outputs": [
    {
     "data": {
      "image/png": "[encoded data removed]",
      "text/plain": [
       "<Figure size 640x480 with 1 Axes>"
      ]
     },
     "metadata": {},
     "output_type": "display_data"
    }
   ],
   "source": [
    "sns.boxplot(y=df.Total_Score,\n",
    "            x=df.Test_Prep,\n",
    "            data=df).set(title=\"Fig:2 Test Prep completed vs. None\")\n",
    "\n",
    "plt.grid(True, alpha=0.15, linestyle='--')"
   ]
  },
  {
   "cell_type": "code",
   "execution_count": 119,
   "id": "8e20cba9",
   "metadata": {},
   "outputs": [
    {
     "name": "stdout",
     "output_type": "stream",
     "text": [
      "t_value = 41.357836740961034 , p_value =0.0 , p_value_onetail = 0.0\n"
     ]
    }
   ],
   "source": [
    "alpha=0.05\n",
    "t_val2, p_value2 = stats.ttest_ind(tp_completed_scores, tp_none_scores)\n",
    "\n",
    "p_value_onetail= p_value2/2\n",
    "\n",
    "print(\"t_value = {} , p_value ={} , p_value_onetail = {}\".format(t_val2, p_value2, p_value_onetail))"
   ]
  },
  {
   "cell_type": "code",
   "execution_count": 120,
   "id": "4ac4fedd",
   "metadata": {},
   "outputs": [
    {
     "name": "stdout",
     "output_type": "stream",
     "text": [
      "\n",
      "Conclusion: since p_value2 6.972047128908246e-110 is less than alpha 0.05 \n",
      "\n",
      "Reject the null hypothesis that 'the average total scores of students who completed Test prep is less than or equal to students who didn't'.\n"
     ]
    }
   ],
   "source": [
    "if p_value2 <alpha:\n",
    "    \n",
    "    print(\"\\nConclusion: since p_value2 {} is less than alpha {} \". format (p_value1,alpha))\n",
    "    \n",
    "    print(\"\\nReject the null hypothesis that 'the average total scores of students who completed Test prep is less than or equal to students who didn't'.\")\n",
    "    \n",
    "else:\n",
    "    \n",
    "    print(\"\\nConclusion: since p_value2 {} is greater than alpha {} \". format (p_value1,alpha))\n",
    "    \n",
    "    print(\"\\nFail to reject the null hypothesis that 'The average total scores of students who completed Test prep is greater than or equal to students who didn't.'.\")\n",
    "    \n",
    "    "
   ]
  },
  {
   "cell_type": "markdown",
   "id": "5b8e7a89",
   "metadata": {},
   "source": [
    "### 2.1 Find the number of students based on Test prep completed and none who fall outside the 25th percentile\n",
    "---"
   ]
  },
  {
   "cell_type": "code",
   "execution_count": 121,
   "id": "7bc9c214",
   "metadata": {},
   "outputs": [
    {
     "data": {
      "text/plain": [
       "Test_Prep\n",
       "none         97\n",
       "completed    12\n",
       "Name: count, dtype: int64"
      ]
     },
     "execution_count": 121,
     "metadata": {},
     "output_type": "execute_result"
    }
   ],
   "source": [
    "q1, q3 = np.percentile(df.Total_Score, [25, 75])\n",
    "iqr = q3 - q1\n",
    "lower_bound = q1 - 1.5*iqr\n",
    "upper_bound = q3 + 1.5*iqr\n",
    "\n",
    "#create conditions to isolate the outliers\n",
    "outliers = df[(df.Total_Score < lower_bound) | (df.Total_Score > upper_bound)]\n",
    "\n",
    "outliers['Test_Prep'].value_counts()"
   ]
  },
  {
   "cell_type": "markdown",
   "id": "5f21494f",
   "metadata": {},
   "source": [
    "**Conclusion** - 12 students who completed test prep fall below the 25th percentil, while 97 students who did not take test prep fall below the 25th percentile, validating the rejection of the null hypothesis."
   ]
  },
  {
   "cell_type": "markdown",
   "id": "07e4b371",
   "metadata": {},
   "source": [
    "[Go to Top](#Hypothesis-Testing-done)"
   ]
  },
  {
   "cell_type": "markdown",
   "id": "0e436d1b",
   "metadata": {},
   "source": [
    "## 3. Hypothesis testing - Does parent's education have any influence on student scores?\n",
    "---\n",
    "In this example, using the statistical evidence, we will compare the scores of students based on their parent's education to determine if parent's education has any influence on the student scores.\n",
    "\n",
    "**Data transformation**\n",
    "\n",
    "We need to transform the data as the `df['Parents_Edu'].value_counts()` has many features which are almost similar.\n",
    "First, we will combine `some high school` and `high school` into one category and leave the rest as is.\n",
    "\n",
    "---\n",
    "\n",
    "Now, let's define our null and alternative hypothesis.\n",
    "\n",
    "$ 𝐻_{0}:\\mu_{1}=\\mu_{2}=\\mu_{3} $ The mean Total_Score of students whose parent's varying education level are the same. \\\n",
    "$ 𝐻_{A}: $ At least one of the means for the Total_Score is not the same.\n",
    "\n",
    "For this example, we will use a one-way ANOVA and f-score statistic to **evaluate the variances** of these five different populations. We will set alpha value to be 0.05.\n"
   ]
  },
  {
   "cell_type": "code",
   "execution_count": 122,
   "id": "d0225950",
   "metadata": {},
   "outputs": [
    {
     "data": {
      "text/plain": [
       "Parents_Edu\n",
       "some college          7048\n",
       "high school           6031\n",
       "some high school      5907\n",
       "associate's degree    5902\n",
       "bachelor's degree     3600\n",
       "master's degree       2153\n",
       "Name: count, dtype: int64"
      ]
     },
     "execution_count": 122,
     "metadata": {},
     "output_type": "execute_result"
    }
   ],
   "source": [
    "df['Parents_Edu'].value_counts()"
   ]
  },
  {
   "cell_type": "markdown",
   "id": "e7b1c950",
   "metadata": {},
   "source": [
    "### Merge `some high school` to `high school`"
   ]
  },
  {
   "cell_type": "code",
   "execution_count": 123,
   "id": "a5ab5c36",
   "metadata": {},
   "outputs": [
    {
     "data": {
      "text/plain": [
       "[\"bachelor's degree\",\n",
       " 'some college',\n",
       " \"master's degree\",\n",
       " \"associate's degree\",\n",
       " 'high school']"
      ]
     },
     "execution_count": 123,
     "metadata": {},
     "output_type": "execute_result"
    }
   ],
   "source": [
    "df['Parents_Edu'] = np.where(df['Parents_Edu']=='some high school', 'high school', df['Parents_Edu'])\n",
    "df['Parents_Edu'].unique().tolist()"
   ]
  },
  {
   "cell_type": "markdown",
   "id": "0b4b361f",
   "metadata": {},
   "source": [
    "### Average scores of students based on parent's education"
   ]
  },
  {
   "cell_type": "code",
   "execution_count": 124,
   "id": "6594289b",
   "metadata": {},
   "outputs": [
    {
     "data": {
      "text/plain": [
       "Parents_Edu\n",
       "master's degree       222.616349\n",
       "bachelor's degree     217.434167\n",
       "associate's degree    210.270756\n",
       "some college          204.785187\n",
       "high school           195.190484\n",
       "Name: Total_Score, dtype: float64"
      ]
     },
     "execution_count": 124,
     "metadata": {},
     "output_type": "execute_result"
    }
   ],
   "source": [
    "df.groupby(by='Parents_Edu')['Total_Score'].mean().sort_values(ascending=False)"
   ]
  },
  {
   "cell_type": "code",
   "execution_count": 125,
   "id": "663f2d6d",
   "metadata": {},
   "outputs": [
    {
     "data": {
      "image/png": "[encoded data removed]",
      "text/plain": [
       "<Figure size 1000x500 with 1 Axes>"
      ]
     },
     "metadata": {},
     "output_type": "display_data"
    }
   ],
   "source": [
    "plt.figure(figsize=(10, 5))\n",
    "sns.boxplot(x=\"Parents_Edu\", y=\"Total_Score\", data=df).set(title=\"Fig:3 Parent's Education and Average Scores\")\n",
    "\n",
    "plt.grid(True, alpha = 0.5, linestyle='--')\n",
    "plt.show()"
   ]
  },
  {
   "cell_type": "markdown",
   "id": "71086e5a",
   "metadata": {},
   "source": [
    "Now, we will construct the ANOVA table and check for each groups count (masters, bachelors, associats, college, high school education of parents) against the Total_Score values"
   ]
  },
  {
   "cell_type": "code",
   "execution_count": 126,
   "id": "df32205d",
   "metadata": {},
   "outputs": [
    {
     "data": {
      "text/html": [
       "<div>\n",
       "<style scoped>\n",
       "    .dataframe tbody tr th:only-of-type {\n",
       "        vertical-align: middle;\n",
       "    }\n",
       "\n",
       "    .dataframe tbody tr th {\n",
       "        vertical-align: top;\n",
       "    }\n",
       "\n",
       "    .dataframe thead th {\n",
       "        text-align: right;\n",
       "    }\n",
       "</style>\n",
       "<table border=\"1\" class=\"dataframe\">\n",
       "  <thead>\n",
       "    <tr style=\"text-align: right;\">\n",
       "      <th></th>\n",
       "      <th>df</th>\n",
       "      <th>sum_sq</th>\n",
       "      <th>mean_sq</th>\n",
       "      <th>F</th>\n",
       "      <th>PR(&gt;F)</th>\n",
       "    </tr>\n",
       "  </thead>\n",
       "  <tbody>\n",
       "    <tr>\n",
       "      <th>C(Parents_Edu)</th>\n",
       "      <td>4.0</td>\n",
       "      <td>2.537026e+06</td>\n",
       "      <td>634256.506379</td>\n",
       "      <td>359.15054</td>\n",
       "      <td>9.464830e-303</td>\n",
       "    </tr>\n",
       "    <tr>\n",
       "      <th>Residual</th>\n",
       "      <td>30636.0</td>\n",
       "      <td>5.410289e+07</td>\n",
       "      <td>1765.990679</td>\n",
       "      <td>NaN</td>\n",
       "      <td>NaN</td>\n",
       "    </tr>\n",
       "  </tbody>\n",
       "</table>\n",
       "</div>"
      ],
      "text/plain": [
       "                     df        sum_sq        mean_sq          F         PR(>F)\n",
       "C(Parents_Edu)      4.0  2.537026e+06  634256.506379  359.15054  9.464830e-303\n",
       "Residual        30636.0  5.410289e+07    1765.990679        NaN            NaN"
      ]
     },
     "execution_count": 126,
     "metadata": {},
     "output_type": "execute_result"
    }
   ],
   "source": [
    "formula = 'Total_Score ~ C(Parents_Edu)'\n",
    "model = ols(formula, df).fit()\n",
    "aov_table = anova_lm(model)\n",
    "aov_table"
   ]
  },
  {
   "cell_type": "markdown",
   "id": "6a5c646b",
   "metadata": {},
   "source": [
    "Conclusion. p-value is significantly less than the alpha (0.05), therefore we reject the null hypothesis and conclude that the mean Total_Score of students whose parent's varying education level are **NOT** the same."
   ]
  },
  {
   "cell_type": "markdown",
   "id": "703f7460",
   "metadata": {},
   "source": [
    "[Go to Top](#Hypothesis-Testing-done)"
   ]
  },
  {
   "cell_type": "markdown",
   "id": "ef9021b3",
   "metadata": {},
   "source": [
    "## 4. Hypothesis testing - Determine if the proportion of students who have completed test prep is significantly different based on their Gender\n",
    "---\n",
    "\n",
    "\n",
    "First, let's define our null and alternative hypothesis.\n",
    "\n",
    "---\n",
    "$ 𝐻_{0} $: Gender does not play a role in the completion of Test Prep. \\\n",
    "$ 𝐻_{A} $: Gender plays a role in the completion (or non-completion) of Test Prep.\n",
    "\n",
    "---\n",
    "\n",
    "Here, we are comparing two different categorical variables, male/female and test prep completed or non. For this type of analysis, we will perform a chi-square test.\n"
   ]
  },
  {
   "cell_type": "code",
   "execution_count": 127,
   "id": "294db9f8",
   "metadata": {},
   "outputs": [
    {
     "data": {
      "text/html": [
       "<div>\n",
       "<style scoped>\n",
       "    .dataframe tbody tr th:only-of-type {\n",
       "        vertical-align: middle;\n",
       "    }\n",
       "\n",
       "    .dataframe tbody tr th {\n",
       "        vertical-align: top;\n",
       "    }\n",
       "\n",
       "    .dataframe thead th {\n",
       "        text-align: right;\n",
       "    }\n",
       "</style>\n",
       "<table border=\"1\" class=\"dataframe\">\n",
       "  <thead>\n",
       "    <tr style=\"text-align: right;\">\n",
       "      <th>Gender</th>\n",
       "      <th>female</th>\n",
       "      <th>male</th>\n",
       "    </tr>\n",
       "    <tr>\n",
       "      <th>Test_Prep</th>\n",
       "      <th></th>\n",
       "      <th></th>\n",
       "    </tr>\n",
       "  </thead>\n",
       "  <tbody>\n",
       "    <tr>\n",
       "      <th>completed</th>\n",
       "      <td>5363</td>\n",
       "      <td>5210</td>\n",
       "    </tr>\n",
       "    <tr>\n",
       "      <th>none</th>\n",
       "      <td>10061</td>\n",
       "      <td>10007</td>\n",
       "    </tr>\n",
       "  </tbody>\n",
       "</table>\n",
       "</div>"
      ],
      "text/plain": [
       "Gender     female   male\n",
       "Test_Prep               \n",
       "completed    5363   5210\n",
       "none        10061  10007"
      ]
     },
     "execution_count": 127,
     "metadata": {},
     "output_type": "execute_result"
    }
   ],
   "source": [
    "contingency= pd.crosstab(df.Test_Prep, df.Gender)\n",
    "contingency"
   ]
  },
  {
   "cell_type": "code",
   "execution_count": 128,
   "id": "35ad0849",
   "metadata": {},
   "outputs": [
    {
     "data": {
      "image/png": "[encoded data removed]",
      "text/plain": [
       "<Figure size 640x480 with 1 Axes>"
      ]
     },
     "metadata": {},
     "output_type": "display_data"
    }
   ],
   "source": [
    "contingency.plot(kind='bar')\n",
    "plt.title('Fig 4: Gender vs. Test Prep')\n",
    "plt.grid(True, alpha = 0.5, linestyle='--')"
   ]
  },
  {
   "cell_type": "code",
   "execution_count": 129,
   "id": "326f3538",
   "metadata": {},
   "outputs": [
    {
     "name": "stdout",
     "output_type": "stream",
     "text": [
      "chi-square statistic: 0.9609651514484187,\n",
      "p_value: 0.3269438283235091, \n",
      "degree of freedom: 1, \n",
      "expected frequencies: [[ 5322.21376587  5250.78623413]\n",
      " [10101.78623413  9966.21376587]] \n"
     ]
    }
   ],
   "source": [
    "chi2, p_val, dof, exp_freq = chi2_contingency(contingency, correction = False)\n",
    "\n",
    "print('chi-square statistic: {},\\np_value: {}, \\ndegree of freedom: {}, \\n\\\n",
    "expected frequencies: {} '.format(chi2, p_val, dof, exp_freq))"
   ]
  },
  {
   "cell_type": "code",
   "execution_count": 131,
   "id": "979bd16c",
   "metadata": {},
   "outputs": [
    {
     "name": "stdout",
     "output_type": "stream",
     "text": [
      "\n",
      "Conclusion: since p_val 0.3269438283235091 is greater than alpha 0.05 \n",
      "\n",
      "Fail to reject the null hypothesis that 'Gender does not play a role in the completion of Test Prep'\n",
      "\n",
      "Therefore, Gender (Females) shows a higher tendency to complete Test Prep than Males.\n"
     ]
    }
   ],
   "source": [
    "alpha = 0.05\n",
    "\n",
    "if p_val < alpha:\n",
    "    \n",
    "    print(\"\\nConclusion: since p_val {} is less than alpha {} \". format (p_val,alpha))\n",
    "    \n",
    "    print(\"\\nReject the null hypothesis that 'Gender does not play a role in the completion of Test Prep'.\")\n",
    "    \n",
    "else:\n",
    "    \n",
    "    print(\"\\nConclusion: since p_val {} is greater than alpha {} \". format (p_val,alpha))\n",
    "    \n",
    "    print(\"\\nFail to reject the null hypothesis that 'Gender does not play a role in the completion of Test Prep'\")\n",
    "    print('\\nTherefore, Gender (Females) shows a higher tendency to complete Test Prep than Males.')\n",
    "    "
   ]
  },
  {
   "cell_type": "markdown",
   "id": "d6b3290b",
   "metadata": {},
   "source": [
    "[Go to Top](#Hypothesis-Testing-done)"
   ]
  },
  {
   "cell_type": "code",
   "execution_count": null,
   "id": "fdf75ac6",
   "metadata": {},
   "outputs": [],
   "source": []
  },
  {
   "cell_type": "markdown",
   "id": "90b2b07d",
   "metadata": {},
   "source": [
    "------- END ------"
   ]
  },
  {
   "cell_type": "code",
   "execution_count": null,
   "id": "dbd7de56",
   "metadata": {},
   "outputs": [],
   "source": []
  }
 ],
 "metadata": {
  "kernelspec": {
   "display_name": "Python 3 (ipykernel)",
   "language": "python",
   "name": "python3"
  },
  "language_info": {
   "codemirror_mode": {
    "name": "ipython",
    "version": 3
   },
   "file_extension": ".py",
   "mimetype": "text/x-python",
   "name": "python",
   "nbconvert_exporter": "python",
   "pygments_lexer": "ipython3",
   "version": "3.11.3"
  }
 },
 "nbformat": 4,
 "nbformat_minor": 5
}
